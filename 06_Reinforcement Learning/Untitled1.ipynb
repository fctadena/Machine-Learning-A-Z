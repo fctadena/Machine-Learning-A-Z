{
 "cells": [
  {
   "cell_type": "code",
   "execution_count": 30,
   "id": "354111a5",
   "metadata": {},
   "outputs": [],
   "source": [
    "class MyRide:\n",
    "    def __init__(self, year, make, model):\n",
    "        self.year = year\n",
    "        self.make = make\n",
    "        self.model = model\n",
    "        \n",
    "    def __str__(self):\n",
    "        return f\"{self.year} {self.make} {self.model}\""
   ]
  },
  {
   "cell_type": "code",
   "execution_count": 31,
   "id": "a0870996",
   "metadata": {},
   "outputs": [],
   "source": [
    "ride = MyRide(2022, \"Toyota\", \"Vios\")"
   ]
  },
  {
   "cell_type": "code",
   "execution_count": 32,
   "id": "3cf0b557",
   "metadata": {},
   "outputs": [
    {
     "name": "stdout",
     "output_type": "stream",
     "text": [
      "2022 Toyota Vios\n"
     ]
    }
   ],
   "source": [
    "print(ride)"
   ]
  },
  {
   "cell_type": "code",
   "execution_count": null,
   "id": "150b24c5",
   "metadata": {},
   "outputs": [],
   "source": []
  }
 ],
 "metadata": {
  "kernelspec": {
   "display_name": "Python 3 (ipykernel)",
   "language": "python",
   "name": "python3"
  },
  "language_info": {
   "codemirror_mode": {
    "name": "ipython",
    "version": 3
   },
   "file_extension": ".py",
   "mimetype": "text/x-python",
   "name": "python",
   "nbconvert_exporter": "python",
   "pygments_lexer": "ipython3",
   "version": "3.9.7"
  }
 },
 "nbformat": 4,
 "nbformat_minor": 5
}
